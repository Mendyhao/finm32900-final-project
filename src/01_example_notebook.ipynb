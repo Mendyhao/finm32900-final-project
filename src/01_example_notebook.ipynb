{
 "cells": [
  {
   "cell_type": "markdown",
   "metadata": {},
   "source": [
    "# Replicating Corporate Bond Columns from “Evidence from Many Asset Classes”\n",
    "\n",
    "This notebook will give a brief tour of our cleaned data and some of the analysis performed in the code. \n",
    "\n",
    "We first load the required packages needed to load the data: "
   ]
  },
  {
   "cell_type": "code",
   "execution_count": 7,
   "metadata": {},
   "outputs": [],
   "source": [
    "import config\n",
    "from pathlib import Path\n",
    "OUTPUT_DIR = Path(config.OUTPUT_DIR)"
   ]
  },
  {
   "cell_type": "code",
   "execution_count": 8,
   "metadata": {},
   "outputs": [],
   "source": [
    "import pandas as pd\n",
    "import os\n",
    "import numpy as np"
   ]
  },
  {
   "cell_type": "markdown",
   "metadata": {},
   "source": [
    "We load the Lehman Brothers Fixed Income Database, which provides month-end bid prices"
   ]
  },
  {
   "cell_type": "code",
   "execution_count": null,
   "metadata": {},
   "outputs": [],
   "source": [
    "folder_path = './data'\n",
    "column_widths = [8, 31, 10, 10, 9, 2, 8, 8, 8, 8, 10, 7, 2, 1, 7, 1, 7, 7, 3, 2, 1, 7, 2]\n",
    "files = os.listdir(folder_path)\n",
    "dfs = []\n",
    "\n",
    "for file in files:\n",
    "    file_path = os.path.join(folder_path, file)\n",
    "    data = []\n",
    "    with open(file_path, 'r') as f:\n",
    "        for line in f:\n",
    "            start = 0\n",
    "            row = []\n",
    "            for width in column_widths:\n",
    "                value = line[start:start+width].strip()\n",
    "                row.append(value)\n",
    "                start += width\n",
    "            data.append(row)\n",
    "    df = pd.DataFrame(data)\n",
    "    dfs.append(df)\n",
    "    dfL = pd.concat(dfs, axis=0)"
   ]
  }
 ],
 "metadata": {
  "kernelspec": {
   "display_name": "blank",
   "language": "python",
   "name": "python3"
  },
  "language_info": {
   "codemirror_mode": {
    "name": "ipython",
    "version": 3
   },
   "file_extension": ".py",
   "mimetype": "text/x-python",
   "name": "python",
   "nbconvert_exporter": "python",
   "pygments_lexer": "ipython3",
   "version": "3.12.2"
  }
 },
 "nbformat": 4,
 "nbformat_minor": 2
}
